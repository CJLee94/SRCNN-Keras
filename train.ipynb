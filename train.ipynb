{
 "cells": [
  {
   "cell_type": "code",
   "execution_count": 28,
   "metadata": {},
   "outputs": [],
   "source": [
    "from keras.models import Sequential\n",
    "from keras.layers import Dense, Conv2D, Activation\n",
    "import keras.backend as K\n",
    "from keras import optimizers\n",
    "import numpy as np\n",
    "import h5py"
   ]
  },
  {
   "cell_type": "code",
   "execution_count": 32,
   "metadata": {},
   "outputs": [],
   "source": [
    "K.clear_session()\n",
    "\n",
    "model = Sequential()\n",
    "\n",
    "model.add(Conv2D(64, (9, 9), activation = 'relu',input_shape=(32,32,1),padding = 'SAME'))\n",
    "model.add(Conv2D(32, (1, 1), activation = 'relu', padding = 'SAME'))\n",
    "model.add(Conv2D(1, (5, 5), activation = 'relu', padding = 'SAME'))"
   ]
  },
  {
   "cell_type": "code",
   "execution_count": 33,
   "metadata": {},
   "outputs": [],
   "source": [
    "f = h5py.File('train.h5','r')\n",
    "input_ = f.get('data')[:]\n",
    "target_ = f.get('label')[:]\n",
    "f.close()\n",
    "\n",
    "f = h5py.File('test.h5','r')\n",
    "input_val = f.get('data')[:]\n",
    "target_val = f.get('label')[:]\n",
    "f.close()"
   ]
  },
  {
   "cell_type": "code",
   "execution_count": 40,
   "metadata": {},
   "outputs": [
    {
     "name": "stdout",
     "output_type": "stream",
     "text": [
      "Train on 17202 samples, validate on 11690 samples\n",
      "Epoch 1/10\n",
      "17202/17202 [==============================] - 7s - loss: 268.1096 - val_loss: 329.5249\n",
      "Epoch 2/10\n",
      "17202/17202 [==============================] - 6s - loss: 265.8923 - val_loss: 328.3753\n",
      "Epoch 3/10\n",
      "17202/17202 [==============================] - 6s - loss: 265.6854 - val_loss: 326.2148\n",
      "Epoch 4/10\n",
      "17202/17202 [==============================] - 6s - loss: 265.2597 - val_loss: 328.1829\n",
      "Epoch 5/10\n",
      "17202/17202 [==============================] - 6s - loss: 264.7823 - val_loss: 326.0198\n",
      "Epoch 6/10\n",
      "17202/17202 [==============================] - 6s - loss: 264.8855 - val_loss: 327.9286\n",
      "Epoch 7/10\n",
      "17202/17202 [==============================] - 6s - loss: 263.9289 - val_loss: 324.7637\n",
      "Epoch 8/10\n",
      "17202/17202 [==============================] - 6s - loss: 263.6128 - val_loss: 326.2234\n",
      "Epoch 9/10\n",
      "17202/17202 [==============================] - 6s - loss: 263.5783 - val_loss: 325.3654\n",
      "Epoch 10/10\n",
      "17202/17202 [==============================] - 6s - loss: 262.9604 - val_loss: 327.1335\n"
     ]
    }
   ],
   "source": [
    "opt = optimizers.Adam(lr=0.001)\n",
    "model.compile(optimizer=opt,\n",
    "              loss='mean_squared_error')\n",
    "\n",
    "model.fit(input_,target_,batch_size = 32, epochs = 10,validation_data=(input_val,target_val))\n",
    "model.save('SRCNN_model.h5')"
   ]
  },
  {
   "cell_type": "code",
   "execution_count": 39,
   "metadata": {},
   "outputs": [
    {
     "name": "stdout",
     "output_type": "stream",
     "text": [
      "_________________________________________________________________\n",
      "Layer (type)                 Output Shape              Param #   \n",
      "=================================================================\n",
      "conv2d_1 (Conv2D)            (None, 32, 32, 64)        5248      \n",
      "_________________________________________________________________\n",
      "conv2d_2 (Conv2D)            (None, 32, 32, 32)        2080      \n",
      "_________________________________________________________________\n",
      "conv2d_3 (Conv2D)            (None, 32, 32, 1)         801       \n",
      "=================================================================\n",
      "Total params: 8,129\n",
      "Trainable params: 8,129\n",
      "Non-trainable params: 0\n",
      "_________________________________________________________________\n"
     ]
    }
   ],
   "source": [
    "model.summary()"
   ]
  },
  {
   "cell_type": "code",
   "execution_count": null,
   "metadata": {
    "collapsed": true
   },
   "outputs": [],
   "source": []
  }
 ],
 "metadata": {
  "kernelspec": {
   "display_name": "Python 3",
   "language": "python",
   "name": "python3"
  },
  "language_info": {
   "codemirror_mode": {
    "name": "ipython",
    "version": 3
   },
   "file_extension": ".py",
   "mimetype": "text/x-python",
   "name": "python",
   "nbconvert_exporter": "python",
   "pygments_lexer": "ipython3",
   "version": "3.6.3"
  }
 },
 "nbformat": 4,
 "nbformat_minor": 2
}
