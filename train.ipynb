{
 "cells": [
  {
   "cell_type": "code",
   "execution_count": 1,
   "metadata": {},
   "outputs": [
    {
     "name": "stderr",
     "output_type": "stream",
     "text": [
      "Using TensorFlow backend.\n"
     ]
    }
   ],
   "source": [
    "from keras.models import Sequential\n",
    "from keras.layers import Dense, Conv2D, Activation\n",
    "import keras.backend as K\n",
    "from keras import optimizers\n",
    "import numpy as np\n",
    "import h5py"
   ]
  },
  {
   "cell_type": "code",
   "execution_count": 2,
   "metadata": {},
   "outputs": [],
   "source": [
    "K.clear_session()\n",
    "\n",
    "model = Sequential()\n",
    "\n",
    "model.add(Conv2D(64, (9, 9), activation = 'relu',input_shape=(32,32,1),padding = 'SAME'))\n",
    "model.add(Conv2D(32, (1, 1), activation = 'relu', padding = 'SAME'))\n",
    "model.add(Conv2D(1, (5, 5), activation = 'relu', padding = 'SAME'))"
   ]
  },
  {
   "cell_type": "code",
   "execution_count": 3,
   "metadata": {},
   "outputs": [],
   "source": [
    "f = h5py.File('train.h5','r')\n",
    "input_ = f.get('data')[:]\n",
    "target_ = f.get('label')[:]\n",
    "f.close()\n",
    "\n",
    "f = h5py.File('test.h5','r')\n",
    "input_val = f.get('data')[:]\n",
    "target_val = f.get('label')[:]\n",
    "f.close()"
   ]
  },
  {
   "cell_type": "code",
   "execution_count": 4,
   "metadata": {},
   "outputs": [
    {
     "name": "stdout",
     "output_type": "stream",
     "text": [
      "Train on 17202 samples, validate on 11690 samples\n",
      "Epoch 1/10\n",
      "17202/17202 [==============================] - 6s - loss: 1978.6480 - val_loss: 708.0751\n",
      "Epoch 2/10\n",
      "17202/17202 [==============================] - 5s - loss: 459.8009 - val_loss: 416.1917\n",
      "Epoch 3/10\n",
      "17202/17202 [==============================] - 5s - loss: 339.5907 - val_loss: 388.6488\n",
      "Epoch 4/10\n",
      "17202/17202 [==============================] - 5s - loss: 318.3467 - val_loss: 370.1972\n",
      "Epoch 5/10\n",
      "17202/17202 [==============================] - 5s - loss: 303.1319 - val_loss: 360.4092\n",
      "Epoch 6/10\n",
      "17202/17202 [==============================] - 5s - loss: 294.3622 - val_loss: 350.6892\n",
      "Epoch 7/10\n",
      "17202/17202 [==============================] - 5s - loss: 288.3232 - val_loss: 345.3059\n",
      "Epoch 8/10\n",
      "17202/17202 [==============================] - 5s - loss: 284.1193 - val_loss: 341.4070\n",
      "Epoch 9/10\n",
      "17202/17202 [==============================] - 5s - loss: 280.6365 - val_loss: 338.2911\n",
      "Epoch 10/10\n",
      "17202/17202 [==============================] - 5s - loss: 277.9225 - val_loss: 336.0164\n"
     ]
    }
   ],
   "source": [
    "opt = optimizers.Adam(lr=0.001)\n",
    "model.compile(optimizer=opt,\n",
    "              loss='mean_squared_error')\n",
    "\n",
    "model.fit(input_,target_,batch_size = 32, epochs = 10,validation_data=(input_val,target_val))\n",
    "model.save('SRCNN_model.h5')"
   ]
  },
  {
   "cell_type": "code",
   "execution_count": 5,
   "metadata": {},
   "outputs": [
    {
     "name": "stdout",
     "output_type": "stream",
     "text": [
      "_________________________________________________________________\n",
      "Layer (type)                 Output Shape              Param #   \n",
      "=================================================================\n",
      "conv2d_1 (Conv2D)            (None, 32, 32, 64)        5248      \n",
      "_________________________________________________________________\n",
      "conv2d_2 (Conv2D)            (None, 32, 32, 32)        2080      \n",
      "_________________________________________________________________\n",
      "conv2d_3 (Conv2D)            (None, 32, 32, 1)         801       \n",
      "=================================================================\n",
      "Total params: 8,129\n",
      "Trainable params: 8,129\n",
      "Non-trainable params: 0\n",
      "_________________________________________________________________\n"
     ]
    }
   ],
   "source": [
    "model.summary()"
   ]
  },
  {
   "cell_type": "code",
   "execution_count": null,
   "metadata": {
    "collapsed": true
   },
   "outputs": [],
   "source": []
  }
 ],
 "metadata": {
  "kernelspec": {
   "display_name": "Python 3",
   "language": "python",
   "name": "python3"
  },
  "language_info": {
   "codemirror_mode": {
    "name": "ipython",
    "version": 3
   },
   "file_extension": ".py",
   "mimetype": "text/x-python",
   "name": "python",
   "nbconvert_exporter": "python",
   "pygments_lexer": "ipython3",
   "version": "3.6.3"
  }
 },
 "nbformat": 4,
 "nbformat_minor": 2
}
